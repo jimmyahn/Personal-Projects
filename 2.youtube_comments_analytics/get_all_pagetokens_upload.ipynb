{
 "cells": [
  {
   "cell_type": "code",
   "execution_count": null,
   "metadata": {},
   "outputs": [],
   "source": [
    "import requests\n",
    "# First request\n",
    "DEVELOPER_KEY = \"USER_KEY\"\n",
    "ChannelID = 'UC9gxOp_-R78phMHmv2bW_sg'\n",
    "\n",
    "r = requests.get(\"https://www.googleapis.com/youtube/v3/search?part=snippet&maxResults=50&channelId=\"+ChannelID+\"&order=date&key=\"+DEVELOPER_KEY)\n",
    "json_data = r.json()                                                                                                \n",
    "nextPageToken = json_data.get(\"nextPageToken\")\n",
    "tokenlist = []\n",
    "tokenlist.append(nextPageToken)\n",
    "\n",
    "# Retrieve all the rest of the pages\n",
    "while nextPageToken:\n",
    "    r = requests.get(\"https://www.googleapis.com/youtube/v3/search?part=snippet&maxResults=50&channelId=\"+ChannelID+\"&order=date&key=\"+DEVELOPER_KEY+\"&pageToken=\"+nextPageToken)\n",
    "    json_data = r.json()\n",
    "    nextPageToken = json_data.get(\"nextPageToken\")\n",
    "    tokenlist.append(nextPageToken)\n",
    "del tokenlist[-1]\n",
    "tokenlist"
   ]
  }
 ],
 "metadata": {
  "kernelspec": {
   "display_name": "Python 3",
   "language": "python",
   "name": "python3"
  },
  "language_info": {
   "codemirror_mode": {
    "name": "ipython",
    "version": 3
   },
   "file_extension": ".py",
   "mimetype": "text/x-python",
   "name": "python",
   "nbconvert_exporter": "python",
   "pygments_lexer": "ipython3",
   "version": "3.6.6"
  }
 },
 "nbformat": 4,
 "nbformat_minor": 2
}
